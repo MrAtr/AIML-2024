{
  "nbformat": 4,
  "nbformat_minor": 0,
  "metadata": {
    "colab": {
      "provenance": []
    },
    "kernelspec": {
      "name": "python3",
      "display_name": "Python 3"
    },
    "language_info": {
      "name": "python"
    }
  },
  "cells": [
    {
      "cell_type": "code",
      "source": [
        "import pandas as pd\n",
        "\n",
        "data_excel = pd.read_excel('/content/dataset.xlsx')\n",
        "data_csv = pd.read_csv('/content/dataset.csv')\n",
        "data_tsv = pd.read_csv('/content/dataset.tsv', sep='\\t')\n",
        "\n",
        "print(data_excel)\n",
        "print(data_csv)\n",
        "print(data_tsv)\n",
        "\n",
        "# Provide the correct raw URL of the CSV file on GitHub\n",
        "url = 'https://raw.githubusercontent.com/Devarakondadurgaprasad/AI-ML/main/dataset.csv'\n",
        "df_url = pd.read_csv(url)\n",
        "print(\"\\nData from URL:\")\n",
        "print(df_url)\n"
      ],
      "metadata": {
        "id": "1lhtSUtQss1e",
        "colab": {
          "base_uri": "https://localhost:8080/"
        },
        "outputId": "792c7bed-7114-4656-9a74-13315973fc2a"
      },
      "execution_count": 2,
      "outputs": [
        {
          "output_type": "stream",
          "name": "stdout",
          "text": [
            "      name  age  height  weight\n",
            "0  rithwik   19     145      46\n",
            "1   vishal   21     151      50\n",
            "2   harsha   25     170      76\n",
            "3   ramesh   30     163      61\n",
            "      name  age  height  weight\n",
            "0  rithwik   19     145      46\n",
            "1   vishal   21     151      50\n",
            "2   harsha   25     170      76\n",
            "3   ramesh   30     163      61\n",
            "  name,age,height,weight\n",
            "0      rithwik,19,145,46\n",
            "1       vishal,21,151,50\n",
            "2       harsha,25,170,76\n",
            "3       ramesh,30,163,61\n",
            "\n",
            "Data from URL:\n",
            "      name  age  height  weight\n",
            "0  rithwik   19     145      46\n",
            "1   vishal   21     151      50\n",
            "2   harsha   25     170      76\n",
            "3   ramesh   30     163      61\n"
          ]
        }
      ]
    },
    {
      "cell_type": "code",
      "source": [],
      "metadata": {
        "id": "SG71R6pP39yF"
      },
      "execution_count": null,
      "outputs": []
    }
  ]
}